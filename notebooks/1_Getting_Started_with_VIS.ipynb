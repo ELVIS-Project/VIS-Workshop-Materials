{
 "cells": [
  {
   "cell_type": "markdown",
   "metadata": {},
   "source": [
    "# 1. Getting Started with VIS"
   ]
  },
  {
   "cell_type": "markdown",
   "metadata": {},
   "source": [
    "There are many ways to get started with VIS. If you are already familiar with Python just go ahead and pip install ```vis-framework``` from pypi, and use your favorite text editor (sublime, emacs, etc.) or IDE.\n",
    "\n",
    "Everybody else can follow along online on our [http://visdemo.simssa.ca](http://visdemo.simssa.ca)."
   ]
  },
  {
   "cell_type": "markdown",
   "metadata": {},
   "source": [
    "When using Python 2.7 we should declare the coding type first. (This is not necessary for Python 3 variants, and the code will be ignored by the Python 3 interpreter)."
   ]
  },
  {
   "cell_type": "code",
   "execution_count": 1,
   "metadata": {
    "collapsed": true
   },
   "outputs": [],
   "source": [
    "# -*- coding: utf-8 -*-"
   ]
  },
  {
   "cell_type": "code",
   "execution_count": 2,
   "metadata": {
    "collapsed": true
   },
   "outputs": [],
   "source": [
    "# Fun time with VIS."
   ]
  },
  {
   "cell_type": "code",
   "execution_count": 3,
   "metadata": {
    "collapsed": false
   },
   "outputs": [
    {
     "name": "stdout",
     "output_type": "stream",
     "text": [
      "Hello Python, version 2.7.12!\n"
     ]
    }
   ],
   "source": [
    "# Testing our Python.\n",
    "import sys # more on importing libraries later ...\n",
    "print(\"Hello Python, version %s.%s.%s!\" \n",
    "      %(sys.version_info.major, sys.version_info.minor, sys.version_info.micro))"
   ]
  },
  {
   "cell_type": "markdown",
   "metadata": {},
   "source": [
    "Next we import required pre-programmed Python libraries. For now we will import [```music21```](http://web.mit.edu/music21/) (\"a set of tools for helping scholars and other active listeners answer questions about music quickly and simply\"), and [```pandas```](http://pandas.pydata.org) (\"a Python package providing fast, flexible, and expressive data structures designed to make working with 'relational' or 'labeled' data both easy and intuitive – aiming to be the fundamental high-level building block for doing practical, real world data analysis in Python\").\n",
    "\n",
    "> A [_data structure_](https://en.wikipedia.org/wiki/Data_structure) is \"a particular way of organizing data in a computer so that it can be used efficiently.\""
   ]
  },
  {
   "cell_type": "code",
   "execution_count": 4,
   "metadata": {
    "collapsed": true
   },
   "outputs": [],
   "source": [
    "import music21, pandas"
   ]
  },
  {
   "cell_type": "markdown",
   "metadata": {},
   "source": [
    "Using ```music21``` by itself is beyond the scope of this workshop, and warrants its own workshop. We use ```music21```: (1)\n",
    "to import many different types of music data and symbolic score representations, like ABC, Capella, Humdrum, \n",
    "LilyPond, MEI, MIDI, MusicXML, MuseData, and others; and (2) for its pitch handling capabilities, particularly\n",
    "conversion to and from different pitch naming schemes (cis4 => C*#*4 => pitch class 1 => MIDI pitch 61 => 277.18 Hz), \n",
    "and intervallic relationship calculations.\n",
    "\n",
    "Using ```pandas``` warrants its own workshop as well. However, we mostly use two data structures from the library, namely the _Series_, and the _DataFrame_. A Series, according to the ```pandas``` [documentation](http://pandas.pydata.org/pandas-docs/version/0.18.1/dsintro.html), is \"a one-dimensional labeled array capable of holding any data type (integers, strings, floating point numbers, Python objects, etc.).\" The documentation further explains that \"the axis labels are collectively referred to as the index.\" A \"DataFrame is a 2-dimensional labeled data structure with columns of potentially different types. You can think of it like a spreadsheet or SQL table, or a dict of Series objects.\" A DataFrame \"accepts many different kinds of input,\" including: (1) dictionary of 1-D arrays, lists, dicts, or Series; (2) 2-D array; (3) structured or record array; (4) a Series; and (5) another DataFrame.\n",
    "\n",
    "We can easily construct a Series the following way:"
   ]
  },
  {
   "cell_type": "code",
   "execution_count": 5,
   "metadata": {
    "collapsed": false
   },
   "outputs": [
    {
     "name": "stdout",
     "output_type": "stream",
     "text": [
      "0    Christopher\n",
      "1         Claire\n",
      "2           Ryan\n",
      "3         Marina\n",
      "4          Jamie\n",
      "5         Reiner\n",
      "6      Alexander\n",
      "dtype: object\n"
     ]
    }
   ],
   "source": [
    "# Building a first_name list:\n",
    "first_name = ['Christopher','Claire','Ryan','Marina','Jamie','Reiner','Alexander']\n",
    "\n",
    "# Creating a Series from the list:\n",
    "series_first_name = pandas.Series(first_name)\n",
    "\n",
    "# Printing the Series:\n",
    "print(series_first_name)"
   ]
  },
  {
   "cell_type": "markdown",
   "metadata": {},
   "source": [
    "With a few lines of extra code we can create a DataFrame:"
   ]
  },
  {
   "cell_type": "code",
   "execution_count": 6,
   "metadata": {
    "collapsed": false
   },
   "outputs": [
    {
     "name": "stdout",
     "output_type": "stream",
     "text": [
      "     FirstName  LastName\n",
      "0  Christopher    Antila\n",
      "1       Claire    Arthur\n",
      "2         Ryan    Bannon\n",
      "3       Marina  Cottrell\n",
      "4        Jamie   Klassen\n",
      "5       Reiner    Kramer\n",
      "6    Alexander    Morgan\n"
     ]
    }
   ],
   "source": [
    "# Creating a last_name list:\n",
    "last_name = ['Antila','Arthur','Bannon','Cottrell','Klassen','Kramer','Morgan']\n",
    "\n",
    "# Generating a Series from the list:\n",
    "series_last_name = pandas.Series(last_name)\n",
    "\n",
    "# Combining the first_name and last_name into a dictionary:\n",
    "dictionary_developers = {'FirstName' : series_first_name, 'LastName' : series_last_name}\n",
    "\n",
    "# Constructing a DataFrame from the dictionary:\n",
    "dataframe_developers = pandas.DataFrame(dictionary_developers)\n",
    "\n",
    "# Printing the DataFrame:\n",
    "print(dataframe_developers)"
   ]
  },
  {
   "cell_type": "markdown",
   "metadata": {},
   "source": [
    "This is all great, but how does it work with symbolic music, and what does the VIS Framework have to do with this?\n",
    "\n",
    "## Monophony\n",
    "\n",
    "We use the ```Importer``` class to import a score that has been encoded into one of the popular symbolic file formats such as ```musicXML``` (usually ends with a ```.xml``` extension), ```.mei```, ```.krn```, etc. into a DataFrame. We use the following code to accomplish the task:"
   ]
  },
  {
   "cell_type": "code",
   "execution_count": 7,
   "metadata": {
    "collapsed": false
   },
   "outputs": [],
   "source": [
    "# Adding the VIS Framework Importer method to our script:\n",
    "from vis.models.indexed_piece import Importer"
   ]
  },
  {
   "cell_type": "markdown",
   "metadata": {},
   "source": [
    "The ```Importer``` class uses ```music21``` to import a symbolic score. All we need to do, is pass a file path to the ```Importer``` method as a parameter:"
   ]
  },
  {
   "cell_type": "code",
   "execution_count": 8,
   "metadata": {
    "collapsed": true
   },
   "outputs": [],
   "source": [
    "# Importing a score, and assigning it to a variable.\n",
    "chant = Importer('scores/monophonic/symbolic/Book-1_Ave-Maria-benedicta-tu_p-146.xml')"
   ]
  },
  {
   "cell_type": "markdown",
   "metadata": {},
   "source": [
    "Next, we want to query the newly defined ```DataFrame``` and assign the results of that query to another variable. Our predefined query is called the ```NoteRestIndexer``` (here shown in its abbreviated version ```'noterest'```), because it sequentially assigns an index to all notes and rests as they are occuring in a symbolic score. In effect, \"salami\" slicing the score."
   ]
  },
  {
   "cell_type": "code",
   "execution_count": 9,
   "metadata": {
    "collapsed": false
   },
   "outputs": [],
   "source": [
    "# Applying the .get_data() method to our score:\n",
    "chant_indexed = chant.get_data('noterest')"
   ]
  },
  {
   "cell_type": "markdown",
   "metadata": {},
   "source": [
    "Let's inspect what the beginning of the ```DataFrame``` displays (or the first items of a composition) with aid of the ```.head()``` method (the number passed to the ```.head()``` method indicates how many musical events are to be displayed – we could show all of the events, i.e. the entire score of the chant, by omitting the ```.head()``` method). "
   ]
  },
  {
   "cell_type": "code",
   "execution_count": 10,
   "metadata": {
    "collapsed": false
   },
   "outputs": [
    {
     "data": {
      "text/html": [
       "<div>\n",
       "<table border=\"1\" class=\"dataframe\">\n",
       "  <thead>\n",
       "    <tr>\n",
       "      <th>Indexer</th>\n",
       "      <th>noterest.NoteRestIndexer</th>\n",
       "    </tr>\n",
       "    <tr>\n",
       "      <th>Parts</th>\n",
       "      <th>0</th>\n",
       "    </tr>\n",
       "  </thead>\n",
       "  <tbody>\n",
       "    <tr>\n",
       "      <th>0.0</th>\n",
       "      <td>C3</td>\n",
       "    </tr>\n",
       "    <tr>\n",
       "      <th>1.0</th>\n",
       "      <td>G2</td>\n",
       "    </tr>\n",
       "    <tr>\n",
       "      <th>2.0</th>\n",
       "      <td>A2</td>\n",
       "    </tr>\n",
       "    <tr>\n",
       "      <th>3.0</th>\n",
       "      <td>A2</td>\n",
       "    </tr>\n",
       "    <tr>\n",
       "      <th>4.0</th>\n",
       "      <td>E3</td>\n",
       "    </tr>\n",
       "    <tr>\n",
       "      <th>5.0</th>\n",
       "      <td>F3</td>\n",
       "    </tr>\n",
       "    <tr>\n",
       "      <th>6.0</th>\n",
       "      <td>E3</td>\n",
       "    </tr>\n",
       "  </tbody>\n",
       "</table>\n",
       "</div>"
      ],
      "text/plain": [
       "Indexer noterest.NoteRestIndexer\n",
       "Parts                          0\n",
       "0.0                           C3\n",
       "1.0                           G2\n",
       "2.0                           A2\n",
       "3.0                           A2\n",
       "4.0                           E3\n",
       "5.0                           F3\n",
       "6.0                           E3"
      ]
     },
     "execution_count": 10,
     "metadata": {},
     "output_type": "execute_result"
    }
   ],
   "source": [
    "chant_indexed.head(7)\n",
    "# chant_indexed[:7] # some outcome"
   ]
  },
  {
   "cell_type": "markdown",
   "metadata": {},
   "source": [
    "We see the first 5 events of monophonic composition. One thing we notice is that our ```DataFrame``` consists of one ```Series```. Our ```DataFrame``` also specifies how it was generated (here with the ```noterest.NoteRestIndexer```).\n",
    "\n",
    "```Parts 0``` is the top most part of the score. Because we imported a monophonic chant, we only have one part.  \n",
    "\n",
    "The numbers on the left represent the index and are also referred to as _onsets_. They describe each musical event of the score as it happens. \n",
    "\n",
    "We could view the ```DataFrame``` in a more traditional score format as well, by applying the ```.T``` method to our DataFrame (we additionally are using the ```.tail()``` method to display the last events of the score, limited by passing ```5``` as an argument to the method):"
   ]
  },
  {
   "cell_type": "code",
   "execution_count": 11,
   "metadata": {
    "collapsed": false
   },
   "outputs": [
    {
     "data": {
      "text/html": [
       "<div>\n",
       "<table border=\"1\" class=\"dataframe\">\n",
       "  <thead>\n",
       "    <tr style=\"text-align: right;\">\n",
       "      <th></th>\n",
       "      <th></th>\n",
       "      <th>37.0</th>\n",
       "      <th>38.0</th>\n",
       "      <th>39.0</th>\n",
       "      <th>40.0</th>\n",
       "      <th>41.0</th>\n",
       "      <th>42.0</th>\n",
       "      <th>43.0</th>\n",
       "    </tr>\n",
       "    <tr>\n",
       "      <th>Indexer</th>\n",
       "      <th>Parts</th>\n",
       "      <th></th>\n",
       "      <th></th>\n",
       "      <th></th>\n",
       "      <th></th>\n",
       "      <th></th>\n",
       "      <th></th>\n",
       "      <th></th>\n",
       "    </tr>\n",
       "  </thead>\n",
       "  <tbody>\n",
       "    <tr>\n",
       "      <th>noterest.NoteRestIndexer</th>\n",
       "      <th>0</th>\n",
       "      <td>B2</td>\n",
       "      <td>C3</td>\n",
       "      <td>D3</td>\n",
       "      <td>C3</td>\n",
       "      <td>B2</td>\n",
       "      <td>A2</td>\n",
       "      <td>A2</td>\n",
       "    </tr>\n",
       "  </tbody>\n",
       "</table>\n",
       "</div>"
      ],
      "text/plain": [
       "                               37.0 38.0 39.0 40.0 41.0 42.0 43.0\n",
       "Indexer                  Parts                                   \n",
       "noterest.NoteRestIndexer 0       B2   C3   D3   C3   B2   A2   A2"
      ]
     },
     "execution_count": 11,
     "metadata": {},
     "output_type": "execute_result"
    }
   ],
   "source": [
    "chant_indexed.tail(7).T\n",
    "# chant_indexed[37:].T # same outcome"
   ]
  },
  {
   "cell_type": "markdown",
   "metadata": {},
   "source": [
    "Or _cancrizans_:"
   ]
  },
  {
   "cell_type": "code",
   "execution_count": 12,
   "metadata": {
    "collapsed": false
   },
   "outputs": [
    {
     "data": {
      "text/html": [
       "<div>\n",
       "<table border=\"1\" class=\"dataframe\">\n",
       "  <thead>\n",
       "    <tr style=\"text-align: right;\">\n",
       "      <th></th>\n",
       "      <th></th>\n",
       "      <th>43.0</th>\n",
       "      <th>42.0</th>\n",
       "      <th>41.0</th>\n",
       "      <th>40.0</th>\n",
       "      <th>39.0</th>\n",
       "      <th>38.0</th>\n",
       "      <th>37.0</th>\n",
       "    </tr>\n",
       "    <tr>\n",
       "      <th>Indexer</th>\n",
       "      <th>Parts</th>\n",
       "      <th></th>\n",
       "      <th></th>\n",
       "      <th></th>\n",
       "      <th></th>\n",
       "      <th></th>\n",
       "      <th></th>\n",
       "      <th></th>\n",
       "    </tr>\n",
       "  </thead>\n",
       "  <tbody>\n",
       "    <tr>\n",
       "      <th>noterest.NoteRestIndexer</th>\n",
       "      <th>0</th>\n",
       "      <td>A2</td>\n",
       "      <td>A2</td>\n",
       "      <td>B2</td>\n",
       "      <td>C3</td>\n",
       "      <td>D3</td>\n",
       "      <td>C3</td>\n",
       "      <td>B2</td>\n",
       "    </tr>\n",
       "  </tbody>\n",
       "</table>\n",
       "</div>"
      ],
      "text/plain": [
       "                               43.0 42.0 41.0 40.0 39.0 38.0 37.0\n",
       "Indexer                  Parts                                   \n",
       "noterest.NoteRestIndexer 0       A2   A2   B2   C3   D3   C3   B2"
      ]
     },
     "execution_count": 12,
     "metadata": {},
     "output_type": "execute_result"
    }
   ],
   "source": [
    "chant_indexed[::-1].head(7).T"
   ]
  },
  {
   "cell_type": "markdown",
   "metadata": {},
   "source": [
    "Rather than looking at the beginning or the end of a series, we can also extract just specific slices of varying length."
   ]
  },
  {
   "cell_type": "code",
   "execution_count": 13,
   "metadata": {
    "collapsed": false
   },
   "outputs": [
    {
     "data": {
      "text/html": [
       "<div>\n",
       "<table border=\"1\" class=\"dataframe\">\n",
       "  <thead>\n",
       "    <tr style=\"text-align: right;\">\n",
       "      <th></th>\n",
       "      <th></th>\n",
       "      <th>5.0</th>\n",
       "      <th>6.0</th>\n",
       "      <th>7.0</th>\n",
       "      <th>8.0</th>\n",
       "      <th>9.0</th>\n",
       "      <th>10.0</th>\n",
       "      <th>11.0</th>\n",
       "    </tr>\n",
       "    <tr>\n",
       "      <th>Indexer</th>\n",
       "      <th>Parts</th>\n",
       "      <th></th>\n",
       "      <th></th>\n",
       "      <th></th>\n",
       "      <th></th>\n",
       "      <th></th>\n",
       "      <th></th>\n",
       "      <th></th>\n",
       "    </tr>\n",
       "  </thead>\n",
       "  <tbody>\n",
       "    <tr>\n",
       "      <th>noterest.NoteRestIndexer</th>\n",
       "      <th>0</th>\n",
       "      <td>F3</td>\n",
       "      <td>E3</td>\n",
       "      <td>E3</td>\n",
       "      <td>D3</td>\n",
       "      <td>C3</td>\n",
       "      <td>D3</td>\n",
       "      <td>E3</td>\n",
       "    </tr>\n",
       "  </tbody>\n",
       "</table>\n",
       "</div>"
      ],
      "text/plain": [
       "                               5.0  6.0  7.0  8.0  9.0  10.0 11.0\n",
       "Indexer                  Parts                                   \n",
       "noterest.NoteRestIndexer 0       F3   E3   E3   D3   C3   D3   E3"
      ]
     },
     "execution_count": 13,
     "metadata": {},
     "output_type": "execute_result"
    }
   ],
   "source": [
    "chant_indexed.ix[5:11].T # mixed integer and label based access\n",
    "\n",
    "# ----- for the curious: ------ #\n",
    "# chant_indexed.loc[5:11].T # label based access - try it out\n",
    "# chant_indexed.iloc[5:11].T # integer based access - try it out"
   ]
  },
  {
   "cell_type": "markdown",
   "metadata": {},
   "source": [
    "More gory \"pandassian\" details can be found [here](http://pandas.pydata.org/pandas-docs/stable/indexing.html)."
   ]
  },
  {
   "cell_type": "markdown",
   "metadata": {},
   "source": [
    "## Polyphony\n",
    "\n",
    "Now let's look at a composition consisting of more than one voice: polyphony. We can re-use our previously used ```Indexer()``` method, and simply point to a filepath, containing a polyphonic score."
   ]
  },
  {
   "cell_type": "code",
   "execution_count": 14,
   "metadata": {
    "collapsed": false
   },
   "outputs": [
    {
     "data": {
      "text/html": [
       "<div>\n",
       "<table border=\"1\" class=\"dataframe\">\n",
       "  <thead>\n",
       "    <tr style=\"text-align: right;\">\n",
       "      <th></th>\n",
       "      <th></th>\n",
       "      <th>168.0</th>\n",
       "      <th>169.0</th>\n",
       "      <th>169.5</th>\n",
       "      <th>170.0</th>\n",
       "      <th>171.0</th>\n",
       "      <th>172.0</th>\n",
       "      <th>172.5</th>\n",
       "      <th>173.0</th>\n",
       "      <th>174.0</th>\n",
       "      <th>175.0</th>\n",
       "      <th>176.0</th>\n",
       "    </tr>\n",
       "    <tr>\n",
       "      <th>Indexer</th>\n",
       "      <th>Parts</th>\n",
       "      <th></th>\n",
       "      <th></th>\n",
       "      <th></th>\n",
       "      <th></th>\n",
       "      <th></th>\n",
       "      <th></th>\n",
       "      <th></th>\n",
       "      <th></th>\n",
       "      <th></th>\n",
       "      <th></th>\n",
       "      <th></th>\n",
       "    </tr>\n",
       "  </thead>\n",
       "  <tbody>\n",
       "    <tr>\n",
       "      <th rowspan=\"3\" valign=\"top\">noterest.NoteRestIndexer</th>\n",
       "      <th>0</th>\n",
       "      <td>G3</td>\n",
       "      <td>NaN</td>\n",
       "      <td>A3</td>\n",
       "      <td>B3</td>\n",
       "      <td>C4</td>\n",
       "      <td>B3</td>\n",
       "      <td>NaN</td>\n",
       "      <td>A3</td>\n",
       "      <td>NaN</td>\n",
       "      <td>G#3</td>\n",
       "      <td>A3</td>\n",
       "    </tr>\n",
       "    <tr>\n",
       "      <th>1</th>\n",
       "      <td>B3</td>\n",
       "      <td>C4</td>\n",
       "      <td>NaN</td>\n",
       "      <td>B3</td>\n",
       "      <td>E4</td>\n",
       "      <td>NaN</td>\n",
       "      <td>D4</td>\n",
       "      <td>C4</td>\n",
       "      <td>B3</td>\n",
       "      <td>NaN</td>\n",
       "      <td>A3</td>\n",
       "    </tr>\n",
       "    <tr>\n",
       "      <th>2</th>\n",
       "      <td>E3</td>\n",
       "      <td>NaN</td>\n",
       "      <td>NaN</td>\n",
       "      <td>NaN</td>\n",
       "      <td>NaN</td>\n",
       "      <td>NaN</td>\n",
       "      <td>NaN</td>\n",
       "      <td>NaN</td>\n",
       "      <td>NaN</td>\n",
       "      <td>NaN</td>\n",
       "      <td>A2</td>\n",
       "    </tr>\n",
       "  </tbody>\n",
       "</table>\n",
       "</div>"
      ],
      "text/plain": [
       "                               168.0 169.0 169.5 170.0 171.0 172.0 172.5  \\\n",
       "Indexer                  Parts                                             \n",
       "noterest.NoteRestIndexer 0        G3   NaN    A3    B3    C4    B3   NaN   \n",
       "                         1        B3    C4   NaN    B3    E4   NaN    D4   \n",
       "                         2        E3   NaN   NaN   NaN   NaN   NaN   NaN   \n",
       "\n",
       "                               173.0 174.0 175.0 176.0  \n",
       "Indexer                  Parts                          \n",
       "noterest.NoteRestIndexer 0        A3   NaN   G#3    A3  \n",
       "                         1        C4    B3   NaN    A3  \n",
       "                         2       NaN   NaN   NaN    A2  "
      ]
     },
     "execution_count": 14,
     "metadata": {},
     "output_type": "execute_result"
    }
   ],
   "source": [
    "# Creating a score_path variable, mostly to save space:\n",
    "score_path = ('scores/polyphonic/symbolic/Book-3_Jacob-Obrecht_Parce-Domine_p-327_p-328.xml')\n",
    "\n",
    "# Importing the score:\n",
    "obrecht = Importer(score_path)\n",
    "\n",
    "# Indexing the score:\n",
    "obrecht_indexed = obrecht.get_data('noterest')\n",
    "\n",
    "# Observing the results:\n",
    "obrecht_indexed.tail(11).T"
   ]
  },
  {
   "cell_type": "markdown",
   "metadata": {},
   "source": [
    "We can see that ```Parts 0``` is the top part, ```Parts 1``` is the middle part, and ```Parts 2``` is the bottom part. In part 0 at onset 169.0 we notice a ```NaN``` marking, which indcates that nothing new happened in that voice, and that the previous value is held over. We could also substitute ```NaN``` with something else, like:"
   ]
  },
  {
   "cell_type": "code",
   "execution_count": 15,
   "metadata": {
    "collapsed": false
   },
   "outputs": [
    {
     "data": {
      "text/html": [
       "<div>\n",
       "<table border=\"1\" class=\"dataframe\">\n",
       "  <thead>\n",
       "    <tr style=\"text-align: right;\">\n",
       "      <th></th>\n",
       "      <th></th>\n",
       "      <th>168.0</th>\n",
       "      <th>169.0</th>\n",
       "      <th>169.5</th>\n",
       "      <th>170.0</th>\n",
       "      <th>171.0</th>\n",
       "      <th>172.0</th>\n",
       "      <th>172.5</th>\n",
       "      <th>173.0</th>\n",
       "      <th>174.0</th>\n",
       "      <th>175.0</th>\n",
       "      <th>176.0</th>\n",
       "    </tr>\n",
       "    <tr>\n",
       "      <th>Indexer</th>\n",
       "      <th>Parts</th>\n",
       "      <th></th>\n",
       "      <th></th>\n",
       "      <th></th>\n",
       "      <th></th>\n",
       "      <th></th>\n",
       "      <th></th>\n",
       "      <th></th>\n",
       "      <th></th>\n",
       "      <th></th>\n",
       "      <th></th>\n",
       "      <th></th>\n",
       "    </tr>\n",
       "  </thead>\n",
       "  <tbody>\n",
       "    <tr>\n",
       "      <th rowspan=\"3\" valign=\"top\">noterest.NoteRestIndexer</th>\n",
       "      <th>0</th>\n",
       "      <td>G3</td>\n",
       "      <td>=&gt;</td>\n",
       "      <td>A3</td>\n",
       "      <td>B3</td>\n",
       "      <td>C4</td>\n",
       "      <td>B3</td>\n",
       "      <td>=&gt;</td>\n",
       "      <td>A3</td>\n",
       "      <td>=&gt;</td>\n",
       "      <td>G#3</td>\n",
       "      <td>A3</td>\n",
       "    </tr>\n",
       "    <tr>\n",
       "      <th>1</th>\n",
       "      <td>B3</td>\n",
       "      <td>C4</td>\n",
       "      <td>=&gt;</td>\n",
       "      <td>B3</td>\n",
       "      <td>E4</td>\n",
       "      <td>=&gt;</td>\n",
       "      <td>D4</td>\n",
       "      <td>C4</td>\n",
       "      <td>B3</td>\n",
       "      <td>=&gt;</td>\n",
       "      <td>A3</td>\n",
       "    </tr>\n",
       "    <tr>\n",
       "      <th>2</th>\n",
       "      <td>E3</td>\n",
       "      <td>=&gt;</td>\n",
       "      <td>=&gt;</td>\n",
       "      <td>=&gt;</td>\n",
       "      <td>=&gt;</td>\n",
       "      <td>=&gt;</td>\n",
       "      <td>=&gt;</td>\n",
       "      <td>=&gt;</td>\n",
       "      <td>=&gt;</td>\n",
       "      <td>=&gt;</td>\n",
       "      <td>A2</td>\n",
       "    </tr>\n",
       "  </tbody>\n",
       "</table>\n",
       "</div>"
      ],
      "text/plain": [
       "                               168.0 169.0 169.5 170.0 171.0 172.0 172.5  \\\n",
       "Indexer                  Parts                                             \n",
       "noterest.NoteRestIndexer 0        G3    =>    A3    B3    C4    B3    =>   \n",
       "                         1        B3    C4    =>    B3    E4    =>    D4   \n",
       "                         2        E3    =>    =>    =>    =>    =>    =>   \n",
       "\n",
       "                               173.0 174.0 175.0 176.0  \n",
       "Indexer                  Parts                          \n",
       "noterest.NoteRestIndexer 0        A3    =>   G#3    A3  \n",
       "                         1        C4    B3    =>    A3  \n",
       "                         2        =>    =>    =>    A2  "
      ]
     },
     "execution_count": 15,
     "metadata": {},
     "output_type": "execute_result"
    }
   ],
   "source": [
    "obrecht_indexed.tail(11).T.fillna('=>')"
   ]
  },
  {
   "cell_type": "markdown",
   "metadata": {},
   "source": [
    "Eleanor Selfridge-Field's assertion in _Beyond MIDI_ (p. 12) that  a \"musical score is easily viewed as a two-dimensional array\" is confimed by this DataFrame. \n",
    "\n",
    "Let's look at the score in a more traditional format. As you may recall, VIS' ```Importer()``` uses the ```music21.converter.parse()``` method to parse a symbolic music score into its intermediary format, the ```music21``` stream. We can directly access the ```music21``` stream with the ```._score``` method, and by appending it with ```music21```'s ```.measures()``` and ```.show()``` method we can look at a more \"traditional\" score representation."
   ]
  },
  {
   "cell_type": "code",
   "execution_count": 16,
   "metadata": {
    "collapsed": false
   },
   "outputs": [
    {
     "data": {
      "image/png": "[encoded data removed]",
      "text/plain": [
       "<music21.ipython21.objects.IPythonPNGObject at 0x106e43e10>"
      ]
     },
     "execution_count": 16,
     "metadata": {},
     "output_type": "execute_result"
    }
   ],
   "source": [
    "obrecht._score.measures(43,45).show()"
   ]
  },
  {
   "cell_type": "markdown",
   "metadata": {},
   "source": [
    "With the traditional score at hand we can learn how to read the rest of the DataFrame. For example each whole number onset represents a quarter note (part 1, the B3 at onset 168.0 is followed by a C4 at onset 169.0). Thus a 0.5 indicates the use of an eighth note (as is noticable with D4 at onset 172.5 in part 1), and two 1.0 values, where the first item is assigned a note name while the second item is asigned a ```NaN``` value, indicates the use of a half note (as is observable with B3 at onsets 174.0 and 175.0 in part 1). "
   ]
  },
  {
   "cell_type": "markdown",
   "metadata": {
    "collapsed": true
   },
   "source": [
    "## We now know how to index music into a pandas DataFrame, but what's next?"
   ]
  },
  {
   "cell_type": "markdown",
   "metadata": {},
   "source": [
    "We need to farmiliarize ourselves with the different type of DataFrame manipulation tools that pandas offers. Here is a list of the tools, also known as [_indexers_](http://vis-framework.readthedocs.io/en/latest/py-modindex.html):"
   ]
  },
  {
   "cell_type": "markdown",
   "metadata": {},
   "source": [
    "- ```'annotation'``` (```'lilypond.AnnotationIndexer'```)\n",
    "- ```'active_voices'``` (```'active_voices.ActiveVoicesIndexer'```)\n",
    "- ```'cadence'``` (```'cadence.CadenceIndexer'```)\n",
    "- ```'contour'``` (```'contour.ContourIndexer'```)\n",
    "- ```'dissonance'``` (```'dissonance.DissonanceIndexer'```)\n",
    "- ```'fermata'``` (```'fermata.FermataIndexer'```)\n",
    "- ```'horizontal_interval'``` (```'interval.HorizontalIntervalIndexer'```)\n",
    "- ```'vertical_interval'``` (```'interval.IntervalIndexer'```)\n",
    "- ```'duration'``` (```'meter.DurationIndexer'```)\n",
    "- ```'measure'``` (```'meter.MeasureIndexer'```)\n",
    "- ```'beat_strength'``` (```'meter.NoteBeatStrengthIndexer'```)\n",
    "- ```'ngram'``` (```'ngram.NGramIndexer'```)\n",
    "- ```'multistop'``` (```'noterest.MultiStopIndexer'```)\n",
    "- ```'noterest'``` (```'noterest.NoteRestIndexer'```)\n",
    "- ```'offset'``` (```'offset.FilterByOffsetIndexer'```)\n",
    "- ```'over_bass'``` (```'over_bass.OverBassIndexer'```)\n",
    "- ```'repeat'``` (```'repeat.FilterByRepeatIndexer'```)\n",
    "- ```'windexer'``` (```'windexer.Windexer'```)\n",
    "\n",
    "We have already used the ```'noterest'``` indexer above. Alternatively, we could have passed ```noterest.NoteRestIndexer``` to the ```get_data()``` method:"
   ]
  },
  {
   "cell_type": "code",
   "execution_count": 17,
   "metadata": {
    "collapsed": true
   },
   "outputs": [],
   "source": [
    "chant_indexed_alt = chant.get_data('noterest.NoteRestIndexer')"
   ]
  },
  {
   "cell_type": "code",
   "execution_count": 18,
   "metadata": {
    "collapsed": false
   },
   "outputs": [
    {
     "data": {
      "text/html": [
       "<div>\n",
       "<table border=\"1\" class=\"dataframe\">\n",
       "  <thead>\n",
       "    <tr style=\"text-align: right;\">\n",
       "      <th></th>\n",
       "      <th></th>\n",
       "      <th>0.0</th>\n",
       "      <th>1.0</th>\n",
       "      <th>2.0</th>\n",
       "      <th>3.0</th>\n",
       "      <th>4.0</th>\n",
       "      <th>5.0</th>\n",
       "      <th>6.0</th>\n",
       "    </tr>\n",
       "    <tr>\n",
       "      <th>Indexer</th>\n",
       "      <th>Parts</th>\n",
       "      <th></th>\n",
       "      <th></th>\n",
       "      <th></th>\n",
       "      <th></th>\n",
       "      <th></th>\n",
       "      <th></th>\n",
       "      <th></th>\n",
       "    </tr>\n",
       "  </thead>\n",
       "  <tbody>\n",
       "    <tr>\n",
       "      <th>noterest.NoteRestIndexer</th>\n",
       "      <th>0</th>\n",
       "      <td>C3</td>\n",
       "      <td>G2</td>\n",
       "      <td>A2</td>\n",
       "      <td>A2</td>\n",
       "      <td>E3</td>\n",
       "      <td>F3</td>\n",
       "      <td>E3</td>\n",
       "    </tr>\n",
       "  </tbody>\n",
       "</table>\n",
       "</div>"
      ],
      "text/plain": [
       "                               0.0 1.0 2.0 3.0 4.0 5.0 6.0\n",
       "Indexer                  Parts                            \n",
       "noterest.NoteRestIndexer 0      C3  G2  A2  A2  E3  F3  E3"
      ]
     },
     "execution_count": 18,
     "metadata": {},
     "output_type": "execute_result"
    }
   ],
   "source": [
    "chant_indexed_alt.head(7).T"
   ]
  },
  {
   "cell_type": "markdown",
   "metadata": {},
   "source": [
    "#### [2_Interval_Indexers.ipynb](2_Interval_Indexers.ipynb) >>"
   ]
  },
  {
   "cell_type": "markdown",
   "metadata": {},
   "source": [
    "- [1_Getting_Started_with_VIS.ipynb](1_Getting_Started_with_VIS.ipynb)\n",
    "- [2_Interval_Indexers.ipynb](2_Interval_Indexers.ipynb)\n",
    "- [3_The_NGram_Indexer.ipynb](3_The_NGram_Indexer.ipynb)\n",
    "- [4_Processing_Multiple_Files.ipynb]()\n",
    "- [5_Data_Wrangling_Results.ipynb](5_Data_Wrangling_Results.ipynb)\n",
    "- [6_Appendix.ipynb](6_Appendix.ipynb)"
   ]
  }
 ],
 "metadata": {
  "kernelspec": {
   "display_name": "Python 2",
   "language": "python",
   "name": "python2"
  },
  "language_info": {
   "codemirror_mode": {
    "name": "ipython",
    "version": 2
   },
   "file_extension": ".py",
   "mimetype": "text/x-python",
   "name": "python",
   "nbconvert_exporter": "python",
   "pygments_lexer": "ipython2",
   "version": "2.7.12"
  }
 },
 "nbformat": 4,
 "nbformat_minor": 1
}
