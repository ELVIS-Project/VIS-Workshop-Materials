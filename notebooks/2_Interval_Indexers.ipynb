{
 "cells": [
  {
   "cell_type": "markdown",
   "metadata": {},
   "source": [
    "# 2. Using the Interval Indexers"
   ]
  },
  {
   "cell_type": "markdown",
   "metadata": {},
   "source": [
    "As was the case with the previous script we'll define the coding type first in order to maintain backwards \n",
    "compatibility with Python 2.7.x. "
   ]
  },
  {
   "cell_type": "code",
   "execution_count": 1,
   "metadata": {
    "collapsed": true
   },
   "outputs": [],
   "source": [
    "# -*- coding: utf-8 -*-"
   ]
  },
  {
   "cell_type": "markdown",
   "metadata": {},
   "source": [
    "Next, we initialize and import the ```Importer``` method as we did in the \n",
    "[1_Getting_Started_with_VIS.ipynb](1_Getting_Started_with_VIS.ipynb) section. "
   ]
  },
  {
   "cell_type": "code",
   "execution_count": 2,
   "metadata": {
    "collapsed": true
   },
   "outputs": [],
   "source": [
    "# Adding the VIS Framework Importer method to our script:\n",
    "from vis.models.indexed_piece import Importer"
   ]
  },
  {
   "cell_type": "markdown",
   "metadata": {},
   "source": [
    "Importing a scores is the same procedure as well in our analysis script."
   ]
  },
  {
   "cell_type": "code",
   "execution_count": 3,
   "metadata": {
    "collapsed": true
   },
   "outputs": [],
   "source": [
    "# Importing a symbolic music file into the analysis script:\n",
    "chant = Importer('scores/monophonic/symbolic/Book-1_Ave-Maria-benedicta-tu_p-146.xml')"
   ]
  },
  {
   "cell_type": "markdown",
   "metadata": {},
   "source": [
    "However, at this point we need to differentiate what types of intervals we want to look at. Our two interval options are: (1) vertical, and (2) horizontal. The former option evaluates interval types between two or more parts that are simultaneously occurring, while the latter evaluates interval types as they are successively occurring in one voice or part. Since we imported a chant, we can only look at successively occuring horizontal interval types. "
   ]
  },
  {
   "cell_type": "markdown",
   "metadata": {},
   "source": [
    "## Horizontal Intervals\n",
    "\n",
    "Let's look at these intervals with the aid of the ```'horizontal_interval'``` (```'interval.HorizontalIntervalIndexer'```) module. As was the case with the ```noterest.NoteRestIndexer``` module, we need to append the ```get_data()``` method to our imported score:"
   ]
  },
  {
   "cell_type": "code",
   "execution_count": 4,
   "metadata": {
    "collapsed": false
   },
   "outputs": [
    {
     "data": {
      "text/html": [
       "<div>\n",
       "<table border=\"1\" class=\"dataframe\">\n",
       "  <thead>\n",
       "    <tr>\n",
       "      <th>Indexer</th>\n",
       "      <th>interval.HorizontalIntervalIndexer</th>\n",
       "    </tr>\n",
       "    <tr>\n",
       "      <th>Parts</th>\n",
       "      <th>0</th>\n",
       "    </tr>\n",
       "  </thead>\n",
       "  <tbody>\n",
       "    <tr>\n",
       "      <th>1.0</th>\n",
       "      <td>-P4</td>\n",
       "    </tr>\n",
       "    <tr>\n",
       "      <th>2.0</th>\n",
       "      <td>M2</td>\n",
       "    </tr>\n",
       "    <tr>\n",
       "      <th>3.0</th>\n",
       "      <td>P1</td>\n",
       "    </tr>\n",
       "    <tr>\n",
       "      <th>4.0</th>\n",
       "      <td>P5</td>\n",
       "    </tr>\n",
       "    <tr>\n",
       "      <th>5.0</th>\n",
       "      <td>m2</td>\n",
       "    </tr>\n",
       "  </tbody>\n",
       "</table>\n",
       "</div>"
      ],
      "text/plain": [
       "Indexer interval.HorizontalIntervalIndexer\n",
       "Parts                                    0\n",
       "1.0                                    -P4\n",
       "2.0                                     M2\n",
       "3.0                                     P1\n",
       "4.0                                     P5\n",
       "5.0                                     m2"
      ]
     },
     "execution_count": 4,
     "metadata": {},
     "output_type": "execute_result"
    }
   ],
   "source": [
    "# Generating a DataFrame of horizontal Intervals:\n",
    "chant_hints = chant.get_data('horizontal_interval')\n",
    "\n",
    "# Looking at the horizontal intervals:\n",
    "chant_hints.head()"
   ]
  },
  {
   "cell_type": "markdown",
   "metadata": {},
   "source": [
    "The results are easy to read for the default settings. A capitalized \"```M```\" represents \"Major\", a lowercase \"```m```\" stands for \"minor\", \"```P```\" symbolizes \"Perfect\", and a \"```-```\" indicates that the intervals is descending (the absence of the \"```-```\" indicates an ascending interval).\n",
    "\n",
    "The following code example shows how to use other settings, beside the default ones:"
   ]
  },
  {
   "cell_type": "code",
   "execution_count": 5,
   "metadata": {
    "collapsed": false
   },
   "outputs": [
    {
     "data": {
      "text/html": [
       "<div>\n",
       "<table border=\"1\" class=\"dataframe\">\n",
       "  <thead>\n",
       "    <tr>\n",
       "      <th>Indexer</th>\n",
       "      <th>interval.HorizontalIntervalIndexer</th>\n",
       "    </tr>\n",
       "    <tr>\n",
       "      <th>Parts</th>\n",
       "      <th>0</th>\n",
       "    </tr>\n",
       "  </thead>\n",
       "  <tbody>\n",
       "    <tr>\n",
       "      <th>1.0</th>\n",
       "      <td>-4</td>\n",
       "    </tr>\n",
       "    <tr>\n",
       "      <th>2.0</th>\n",
       "      <td>2</td>\n",
       "    </tr>\n",
       "    <tr>\n",
       "      <th>3.0</th>\n",
       "      <td>1</td>\n",
       "    </tr>\n",
       "    <tr>\n",
       "      <th>4.0</th>\n",
       "      <td>5</td>\n",
       "    </tr>\n",
       "    <tr>\n",
       "      <th>5.0</th>\n",
       "      <td>2</td>\n",
       "    </tr>\n",
       "  </tbody>\n",
       "</table>\n",
       "</div>"
      ],
      "text/plain": [
       "Indexer interval.HorizontalIntervalIndexer\n",
       "Parts                                    0\n",
       "1.0                                     -4\n",
       "2.0                                      2\n",
       "3.0                                      1\n",
       "4.0                                      5\n",
       "5.0                                      2"
      ]
     },
     "execution_count": 5,
     "metadata": {},
     "output_type": "execute_result"
    }
   ],
   "source": [
    "# The default settings dictionary looks like this:\n",
    "\"\"\"\n",
    "hint_settings = {\n",
    "    'simple or compound': 'compound', # interval type \n",
    "    'quality': False,                 # Boolean indicating: Perfect, minor, Major, etc., \n",
    "                                      # but also 'diatonic no quality', 'diatonic with quality', \n",
    "                                      # 'chromatic', 'interval class'\n",
    "    'directed':True,                  # descending/ascending indicator\n",
    "    'horiz_attach_later': False,      # start before or after the first note\n",
    "    'mp': True                        # multiprocessing on or off\n",
    "}\n",
    "\"\"\"\n",
    "# Changing the setting:\n",
    "hint_settings = {\n",
    "    'simple or compound':'simple',\n",
    "    'quality': False,\n",
    "    'directed': True,\n",
    "    'horiz_attach_later': True,\n",
    "}\n",
    "\n",
    "# Passing the settings into the .get_data() method:\n",
    "chant_hints = chant.get_data('horizontal_interval', hint_settings)\n",
    "\n",
    "# Observing the new DataFrame:\n",
    "chant_hints.head()"
   ]
  },
  {
   "cell_type": "markdown",
   "metadata": {},
   "source": [
    "These are great intervals, but diatonicism does not always rock my boat: sometimes I'm in a mood for some real ***love***...I mean chromaticism. Yip, we can do that:"
   ]
  },
  {
   "cell_type": "code",
   "execution_count": 6,
   "metadata": {
    "collapsed": false
   },
   "outputs": [
    {
     "data": {
      "text/html": [
       "<div>\n",
       "<table border=\"1\" class=\"dataframe\">\n",
       "  <thead>\n",
       "    <tr>\n",
       "      <th>Indexer</th>\n",
       "      <th>interval.HorizontalIntervalIndexer</th>\n",
       "    </tr>\n",
       "    <tr>\n",
       "      <th>Parts</th>\n",
       "      <th>0</th>\n",
       "    </tr>\n",
       "  </thead>\n",
       "  <tbody>\n",
       "    <tr>\n",
       "      <th>1.0</th>\n",
       "      <td>-5</td>\n",
       "    </tr>\n",
       "    <tr>\n",
       "      <th>2.0</th>\n",
       "      <td>2</td>\n",
       "    </tr>\n",
       "    <tr>\n",
       "      <th>3.0</th>\n",
       "      <td>0</td>\n",
       "    </tr>\n",
       "    <tr>\n",
       "      <th>4.0</th>\n",
       "      <td>7</td>\n",
       "    </tr>\n",
       "    <tr>\n",
       "      <th>5.0</th>\n",
       "      <td>1</td>\n",
       "    </tr>\n",
       "  </tbody>\n",
       "</table>\n",
       "</div>"
      ],
      "text/plain": [
       "Indexer interval.HorizontalIntervalIndexer\n",
       "Parts                                    0\n",
       "1.0                                     -5\n",
       "2.0                                      2\n",
       "3.0                                      0\n",
       "4.0                                      7\n",
       "5.0                                      1"
      ]
     },
     "execution_count": 6,
     "metadata": {},
     "output_type": "execute_result"
    }
   ],
   "source": [
    "# Horizontal Interval Settings:\n",
    "hint_settings = {\n",
    "    'simple or compound':'simple',\n",
    "    'quality': 'chromatic',        # mod12\n",
    "    'directed': True,\n",
    "    'horiz_attach_later': True,\n",
    "}\n",
    "\n",
    "# Passing the settings into the .get_data() method:\n",
    "chant_hints = chant.get_data('horizontal_interval', hint_settings)\n",
    "\n",
    "# Observing the new DataFrame:\n",
    "chant_hints.head()"
   ]
  },
  {
   "cell_type": "markdown",
   "metadata": {},
   "source": [
    "_Mod12_ is cool, but _mod6_ is cooler (we are music theorists - most likely with some type of musicology habit - after all):"
   ]
  },
  {
   "cell_type": "code",
   "execution_count": 33,
   "metadata": {
    "collapsed": false
   },
   "outputs": [
    {
     "data": {
      "text/html": [
       "<div>\n",
       "<table border=\"1\" class=\"dataframe\">\n",
       "  <thead>\n",
       "    <tr>\n",
       "      <th></th>\n",
       "      <th>interval.HorizontalIntervalIndexer</th>\n",
       "    </tr>\n",
       "    <tr>\n",
       "      <th></th>\n",
       "      <th>0</th>\n",
       "    </tr>\n",
       "  </thead>\n",
       "  <tbody>\n",
       "    <tr>\n",
       "      <th>0.0</th>\n",
       "      <td>-5</td>\n",
       "    </tr>\n",
       "    <tr>\n",
       "      <th>1.0</th>\n",
       "      <td>2</td>\n",
       "    </tr>\n",
       "    <tr>\n",
       "      <th>2.0</th>\n",
       "      <td>0</td>\n",
       "    </tr>\n",
       "    <tr>\n",
       "      <th>3.0</th>\n",
       "      <td>5</td>\n",
       "    </tr>\n",
       "    <tr>\n",
       "      <th>4.0</th>\n",
       "      <td>1</td>\n",
       "    </tr>\n",
       "  </tbody>\n",
       "</table>\n",
       "</div>"
      ],
      "text/plain": [
       "    interval.HorizontalIntervalIndexer\n",
       "                                     0\n",
       "0.0                                 -5\n",
       "1.0                                  2\n",
       "2.0                                  0\n",
       "3.0                                  5\n",
       "4.0                                  1"
      ]
     },
     "execution_count": 33,
     "metadata": {},
     "output_type": "execute_result"
    }
   ],
   "source": [
    "# And one more time, because it was so much fun, with interval classes:\n",
    "\n",
    "# Horizontal Interval Settings:\n",
    "hint_settings = {\n",
    "    'simple or compound':'simple',\n",
    "    'quality': 'interval class',  # yo, mod6, yo ...\n",
    "    'directed': True,\n",
    "    'horiz_attach_later': False,\n",
    "}\n",
    "\n",
    "# Passing the settings into the .get_data() method:\n",
    "chant_hints = chant.get_data('horizontal_interval', hint_settings)\n",
    "\n",
    "# Observing the new DataFrame:\n",
    "chant_hints.head()"
   ]
  },
  {
   "cell_type": "markdown",
   "metadata": {},
   "source": [
    "## Vertical Intervals"
   ]
  },
  {
   "cell_type": "markdown",
   "metadata": {},
   "source": [
    "Now that we've mastered horizontal interval extraction, let's check out vertical interval extraction. Obviously we cannot extract vertical intervals from a monophonic chant (unless we consider the other lines to be imaginary, or even implied, but that is philosophy, also sometimes referred to as \"Schenkerian Analysis\"). In order to look at a simplest possible example that can have vertical intervals, we are going to examine a duet in this case a _monad_. We import the score as was previously described:"
   ]
  },
  {
   "cell_type": "code",
   "execution_count": 8,
   "metadata": {
    "collapsed": true
   },
   "outputs": [],
   "source": [
    "# Importing a symbolic music file into the analysis script:\n",
    "path = ('scores/polyphonic/symbolic/')\n",
    "file_name = ('Book-3_Jacob-Obrecht_Monad_p-252_p-327.xml')\n",
    "monad = Importer(path + file_name)"
   ]
  },
  {
   "cell_type": "markdown",
   "metadata": {},
   "source": [
    "Once the procedure was succeful we create a vertical interval DataFrame from the monad:"
   ]
  },
  {
   "cell_type": "code",
   "execution_count": 9,
   "metadata": {
    "collapsed": false
   },
   "outputs": [
    {
     "data": {
      "text/html": [
       "<div>\n",
       "<table border=\"1\" class=\"dataframe\">\n",
       "  <thead>\n",
       "    <tr style=\"text-align: right;\">\n",
       "      <th></th>\n",
       "      <th></th>\n",
       "      <th>212.0</th>\n",
       "      <th>213.0</th>\n",
       "      <th>214.0</th>\n",
       "      <th>215.0</th>\n",
       "      <th>215.5</th>\n",
       "      <th>216.0</th>\n",
       "      <th>217.0</th>\n",
       "      <th>218.0</th>\n",
       "      <th>220.0</th>\n",
       "    </tr>\n",
       "    <tr>\n",
       "      <th>Indexer</th>\n",
       "      <th>Parts</th>\n",
       "      <th></th>\n",
       "      <th></th>\n",
       "      <th></th>\n",
       "      <th></th>\n",
       "      <th></th>\n",
       "      <th></th>\n",
       "      <th></th>\n",
       "      <th></th>\n",
       "      <th></th>\n",
       "    </tr>\n",
       "  </thead>\n",
       "  <tbody>\n",
       "    <tr>\n",
       "      <th>interval.IntervalIndexer</th>\n",
       "      <th>0,1</th>\n",
       "      <td>P1</td>\n",
       "      <td>-M3</td>\n",
       "      <td>P1</td>\n",
       "      <td>M3</td>\n",
       "      <td>A4</td>\n",
       "      <td>m6</td>\n",
       "      <td>P8</td>\n",
       "      <td>P5</td>\n",
       "      <td>P8</td>\n",
       "    </tr>\n",
       "  </tbody>\n",
       "</table>\n",
       "</div>"
      ],
      "text/plain": [
       "                               212.0 213.0 214.0 215.0 215.5 216.0 217.0  \\\n",
       "Indexer                  Parts                                             \n",
       "interval.IntervalIndexer 0,1      P1   -M3    P1    M3    A4    m6    P8   \n",
       "\n",
       "                               218.0 220.0  \n",
       "Indexer                  Parts              \n",
       "interval.IntervalIndexer 0,1      P5    P8  "
      ]
     },
     "execution_count": 9,
     "metadata": {},
     "output_type": "execute_result"
    }
   ],
   "source": [
    "# Generating a vertical interval DataFrame:\n",
    "monad_vints = monad.get_data('vertical_interval')\n",
    "\n",
    "# Sanity check:\n",
    "monad_vints.tail(9).T"
   ]
  },
  {
   "cell_type": "markdown",
   "metadata": {},
   "source": [
    "Let's look at a traditional representation of the score, with a little help from our friend ```music21```:"
   ]
  },
  {
   "cell_type": "code",
   "execution_count": 10,
   "metadata": {
    "collapsed": false
   },
   "outputs": [
    {
     "data": {
      "image/png": "[encoded data removed]",
      "text/plain": [
       "<music21.ipython21.objects.IPythonPNGObject at 0x10cd6b550>"
      ]
     },
     "execution_count": 10,
     "metadata": {},
     "output_type": "execute_result"
    }
   ],
   "source": [
    "monad._score.measures(54,56).show()"
   ]
  },
  {
   "cell_type": "markdown",
   "metadata": {},
   "source": [
    "The meaning of the DataFrame becomes crystal clear. The ```Parts 0,1``` label indicates between which parts the vertical intervals were measured, meaning the top part (```Parts 0```) and the bottom part (```Parts 1```). Let's display the DataFrame for our set-theory brothers and sisters:"
   ]
  },
  {
   "cell_type": "code",
   "execution_count": 11,
   "metadata": {
    "collapsed": false
   },
   "outputs": [
    {
     "data": {
      "text/html": [
       "<div>\n",
       "<table border=\"1\" class=\"dataframe\">\n",
       "  <thead>\n",
       "    <tr style=\"text-align: right;\">\n",
       "      <th></th>\n",
       "      <th></th>\n",
       "      <th>212.0</th>\n",
       "      <th>213.0</th>\n",
       "      <th>214.0</th>\n",
       "      <th>215.0</th>\n",
       "      <th>215.5</th>\n",
       "      <th>216.0</th>\n",
       "      <th>217.0</th>\n",
       "      <th>218.0</th>\n",
       "      <th>220.0</th>\n",
       "    </tr>\n",
       "    <tr>\n",
       "      <th>Indexer</th>\n",
       "      <th>Parts</th>\n",
       "      <th></th>\n",
       "      <th></th>\n",
       "      <th></th>\n",
       "      <th></th>\n",
       "      <th></th>\n",
       "      <th></th>\n",
       "      <th></th>\n",
       "      <th></th>\n",
       "      <th></th>\n",
       "    </tr>\n",
       "  </thead>\n",
       "  <tbody>\n",
       "    <tr>\n",
       "      <th>interval.IntervalIndexer</th>\n",
       "      <th>0,1</th>\n",
       "      <td>0</td>\n",
       "      <td>-4</td>\n",
       "      <td>0</td>\n",
       "      <td>4</td>\n",
       "      <td>6</td>\n",
       "      <td>8</td>\n",
       "      <td>0</td>\n",
       "      <td>7</td>\n",
       "      <td>0</td>\n",
       "    </tr>\n",
       "  </tbody>\n",
       "</table>\n",
       "</div>"
      ],
      "text/plain": [
       "                               212.0 213.0 214.0 215.0 215.5 216.0 217.0  \\\n",
       "Indexer                  Parts                                             \n",
       "interval.IntervalIndexer 0,1       0    -4     0     4     6     8     0   \n",
       "\n",
       "                               218.0 220.0  \n",
       "Indexer                  Parts              \n",
       "interval.IntervalIndexer 0,1       7     0  "
      ]
     },
     "execution_count": 11,
     "metadata": {},
     "output_type": "execute_result"
    }
   ],
   "source": [
    "# Vertical Interval Settings:\n",
    "vint_settings = {\n",
    "    'simple or compound':'simple',\n",
    "    'quality': 'chromatic',        # mod12\n",
    "    'directed': True,\n",
    "    'horiz_attach_later': True,\n",
    "}\n",
    "\n",
    "# Generating a vertical interval DataFrame:\n",
    "monad_vints = monad.get_data('vertical_interval', vint_settings)\n",
    "\n",
    "# Sanity check:\n",
    "monad_vints.tail(9).T"
   ]
  },
  {
   "cell_type": "markdown",
   "metadata": {},
   "source": [
    "... Can I get an _Amen_? But how does the vertical interval DataFrame look like if there are three voices? Back to the drawing board: "
   ]
  },
  {
   "cell_type": "code",
   "execution_count": 58,
   "metadata": {
    "collapsed": false
   },
   "outputs": [
    {
     "data": {
      "text/html": [
       "<div>\n",
       "<table border=\"1\" class=\"dataframe\">\n",
       "  <thead>\n",
       "    <tr style=\"text-align: right;\">\n",
       "      <th></th>\n",
       "      <th></th>\n",
       "      <th>168.0</th>\n",
       "      <th>169.0</th>\n",
       "      <th>169.5</th>\n",
       "      <th>170.0</th>\n",
       "      <th>171.0</th>\n",
       "      <th>172.0</th>\n",
       "      <th>172.5</th>\n",
       "      <th>173.0</th>\n",
       "      <th>174.0</th>\n",
       "      <th>175.0</th>\n",
       "      <th>176.0</th>\n",
       "    </tr>\n",
       "    <tr>\n",
       "      <th>Indexer</th>\n",
       "      <th>Parts</th>\n",
       "      <th></th>\n",
       "      <th></th>\n",
       "      <th></th>\n",
       "      <th></th>\n",
       "      <th></th>\n",
       "      <th></th>\n",
       "      <th></th>\n",
       "      <th></th>\n",
       "      <th></th>\n",
       "      <th></th>\n",
       "      <th></th>\n",
       "    </tr>\n",
       "  </thead>\n",
       "  <tbody>\n",
       "    <tr>\n",
       "      <th rowspan=\"3\" valign=\"top\">interval.IntervalIndexer</th>\n",
       "      <th>0,1</th>\n",
       "      <td>-M3</td>\n",
       "      <td>-P4</td>\n",
       "      <td>-m3</td>\n",
       "      <td>P1</td>\n",
       "      <td>-M3</td>\n",
       "      <td>-P4</td>\n",
       "      <td>-m3</td>\n",
       "      <td>-m3</td>\n",
       "      <td>-M2</td>\n",
       "      <td>-m3</td>\n",
       "      <td>P1</td>\n",
       "    </tr>\n",
       "    <tr>\n",
       "      <th>0,2</th>\n",
       "      <td>m3</td>\n",
       "      <td>m3</td>\n",
       "      <td>P4</td>\n",
       "      <td>P5</td>\n",
       "      <td>m6</td>\n",
       "      <td>P5</td>\n",
       "      <td>P5</td>\n",
       "      <td>P4</td>\n",
       "      <td>P4</td>\n",
       "      <td>M3</td>\n",
       "      <td>P8</td>\n",
       "    </tr>\n",
       "    <tr>\n",
       "      <th>1,2</th>\n",
       "      <td>P5</td>\n",
       "      <td>m6</td>\n",
       "      <td>m6</td>\n",
       "      <td>P5</td>\n",
       "      <td>P8</td>\n",
       "      <td>P8</td>\n",
       "      <td>m7</td>\n",
       "      <td>m6</td>\n",
       "      <td>P5</td>\n",
       "      <td>P5</td>\n",
       "      <td>P8</td>\n",
       "    </tr>\n",
       "  </tbody>\n",
       "</table>\n",
       "</div>"
      ],
      "text/plain": [
       "                               168.0 169.0 169.5 170.0 171.0 172.0 172.5  \\\n",
       "Indexer                  Parts                                             \n",
       "interval.IntervalIndexer 0,1     -M3   -P4   -m3    P1   -M3   -P4   -m3   \n",
       "                         0,2      m3    m3    P4    P5    m6    P5    P5   \n",
       "                         1,2      P5    m6    m6    P5    P8    P8    m7   \n",
       "\n",
       "                               173.0 174.0 175.0 176.0  \n",
       "Indexer                  Parts                          \n",
       "interval.IntervalIndexer 0,1     -m3   -M2   -m3    P1  \n",
       "                         0,2      P4    P4    M3    P8  \n",
       "                         1,2      m6    P5    P5    P8  "
      ]
     },
     "execution_count": 58,
     "metadata": {},
     "output_type": "execute_result"
    }
   ],
   "source": [
    "# Importing a symbolic music file into the analysis script:\n",
    "file_name = ('Book-3_Jacob-Obrecht_Parce-Domine_p-327_p-328.xml')\n",
    "# We do not need to re-specify the path, we re-use the previous one.\n",
    "\n",
    "# Import Obrecht's _Parce Domine_:\n",
    "obrecht = Importer(path + file_name)\n",
    "\n",
    "# Vertical Interval Settings:\n",
    "vint_settings = {\n",
    "    'simple or compound': 'compound', \n",
    "    'quality': True, \n",
    "    'directed': True,\n",
    "    'horiz_attach_later': True,\n",
    "    'mp': False\n",
    "}\n",
    "\n",
    "# Extract all vertical intervals from _Parce Domine_ into a new DataFrame\n",
    "obrecht_vints = obrecht.get_data('vertical_interval', vint_settings)\n",
    "\n",
    "# Sanity Checking our work:\n",
    "obrecht_vints.tail(11).T"
   ]
  },
  {
   "cell_type": "markdown",
   "metadata": {},
   "source": [
    "As we can see all possible vertical interval combinations between the three voices have been accounted for. Here is another quick look at the same excerpt in the more familiar format with our little helper ```music21```:"
   ]
  },
  {
   "cell_type": "code",
   "execution_count": 59,
   "metadata": {
    "collapsed": false
   },
   "outputs": [
    {
     "data": {
      "image/png": "[encoded data removed]",
      "text/plain": [
       "<music21.ipython21.objects.IPythonPNGObject at 0x10fb9c400>"
      ]
     },
     "execution_count": 59,
     "metadata": {},
     "output_type": "execute_result"
    }
   ],
   "source": [
    "obrecht._score.measures(43,45).show()"
   ]
  },
  {
   "cell_type": "markdown",
   "metadata": {},
   "source": [
    "At onset 168.0 the vertical interval between the top and middle voice (```0,1```) is a negative (voices are crossing) Major 3rd. The vertical interval between the top and the bottom voice (```0,2```) is a minor 3rd, wereas the vertical interval between the middle and the bottom part (```1,2```) is a Perfect 5th.\n",
    "\n",
    "But what if we want to check successive intervals (vertical, or horizontal) at different temporal intervals, in order to examine larger scale intervallic motions?"
   ]
  },
  {
   "cell_type": "markdown",
   "metadata": {},
   "source": [
    "## The Offset Indexer"
   ]
  },
  {
   "cell_type": "markdown",
   "metadata": {},
   "source": [
    "As was the case with the other indexers we load the importer into our analysis script via ```from vis.models.indexed_piece import Importer```. We then use the ```noterest.NoteRestIndexer``` as an argument for our ```get_data()``` method the following (we are going to re-use the our previously imported ```chant``` and ```obrecht``` scores) way: "
   ]
  },
  {
   "cell_type": "code",
   "execution_count": 60,
   "metadata": {
    "collapsed": true
   },
   "outputs": [],
   "source": [
    "# NoteRest indexing our score into a pandas DataFrame:\n",
    "chant_indexed = chant.get_data('noterest')"
   ]
  },
  {
   "cell_type": "markdown",
   "metadata": {},
   "source": [
    "We will have to specify by what value we would like to \"offset\" our DataFrame:"
   ]
  },
  {
   "cell_type": "code",
   "execution_count": 61,
   "metadata": {
    "collapsed": false
   },
   "outputs": [],
   "source": [
    "# Specifying Offset Indexer Settings:\n",
    "offset_settings = {\n",
    "    'quarterLength': 4.0\n",
    "}"
   ]
  },
  {
   "cell_type": "markdown",
   "metadata": {},
   "source": [
    "With the step completed we can place our offset score into a new DataFrame the following way:"
   ]
  },
  {
   "cell_type": "code",
   "execution_count": 62,
   "metadata": {
    "collapsed": false
   },
   "outputs": [
    {
     "data": {
      "text/html": [
       "<div>\n",
       "<table border=\"1\" class=\"dataframe\">\n",
       "  <thead>\n",
       "    <tr style=\"text-align: right;\">\n",
       "      <th></th>\n",
       "      <th></th>\n",
       "      <th>0.0</th>\n",
       "      <th>4.0</th>\n",
       "      <th>8.0</th>\n",
       "      <th>12.0</th>\n",
       "      <th>16.0</th>\n",
       "    </tr>\n",
       "    <tr>\n",
       "      <th>Indexer</th>\n",
       "      <th>Parts</th>\n",
       "      <th></th>\n",
       "      <th></th>\n",
       "      <th></th>\n",
       "      <th></th>\n",
       "      <th></th>\n",
       "    </tr>\n",
       "  </thead>\n",
       "  <tbody>\n",
       "    <tr>\n",
       "      <th>offset.FilterByOffsetIndexer</th>\n",
       "      <th>0</th>\n",
       "      <td>C3</td>\n",
       "      <td>E3</td>\n",
       "      <td>D3</td>\n",
       "      <td>E3</td>\n",
       "      <td>A2</td>\n",
       "    </tr>\n",
       "  </tbody>\n",
       "</table>\n",
       "</div>"
      ],
      "text/plain": [
       "                                   0.0  4.0  8.0  12.0 16.0\n",
       "Indexer                      Parts                         \n",
       "offset.FilterByOffsetIndexer 0       C3   E3   D3   E3   A2"
      ]
     },
     "execution_count": 62,
     "metadata": {},
     "output_type": "execute_result"
    }
   ],
   "source": [
    "# Passing the settings to the Offset Indexer: \n",
    "chant_offset = chant.get_data('offset', data=chant_indexed, settings=offset_settings)\n",
    "\n",
    "# Looking at the Offset DataFrame:\n",
    "chant_offset.head().T"
   ]
  },
  {
   "cell_type": "markdown",
   "metadata": {},
   "source": [
    "We can pull in the non-offset score and compare:"
   ]
  },
  {
   "cell_type": "code",
   "execution_count": 63,
   "metadata": {
    "collapsed": false
   },
   "outputs": [
    {
     "data": {
      "text/html": [
       "<div>\n",
       "<table border=\"1\" class=\"dataframe\">\n",
       "  <thead>\n",
       "    <tr style=\"text-align: right;\">\n",
       "      <th></th>\n",
       "      <th></th>\n",
       "      <th>0.0</th>\n",
       "      <th>1.0</th>\n",
       "      <th>2.0</th>\n",
       "      <th>3.0</th>\n",
       "      <th>4.0</th>\n",
       "      <th>5.0</th>\n",
       "      <th>6.0</th>\n",
       "      <th>7.0</th>\n",
       "      <th>8.0</th>\n",
       "      <th>9.0</th>\n",
       "      <th>10.0</th>\n",
       "      <th>11.0</th>\n",
       "      <th>12.0</th>\n",
       "      <th>13.0</th>\n",
       "      <th>14.0</th>\n",
       "      <th>15.0</th>\n",
       "      <th>16.0</th>\n",
       "    </tr>\n",
       "    <tr>\n",
       "      <th>Indexer</th>\n",
       "      <th>Parts</th>\n",
       "      <th></th>\n",
       "      <th></th>\n",
       "      <th></th>\n",
       "      <th></th>\n",
       "      <th></th>\n",
       "      <th></th>\n",
       "      <th></th>\n",
       "      <th></th>\n",
       "      <th></th>\n",
       "      <th></th>\n",
       "      <th></th>\n",
       "      <th></th>\n",
       "      <th></th>\n",
       "      <th></th>\n",
       "      <th></th>\n",
       "      <th></th>\n",
       "      <th></th>\n",
       "    </tr>\n",
       "  </thead>\n",
       "  <tbody>\n",
       "    <tr>\n",
       "      <th>noterest.NoteRestIndexer</th>\n",
       "      <th>0</th>\n",
       "      <td>C3</td>\n",
       "      <td>G2</td>\n",
       "      <td>A2</td>\n",
       "      <td>A2</td>\n",
       "      <td>E3</td>\n",
       "      <td>F3</td>\n",
       "      <td>E3</td>\n",
       "      <td>E3</td>\n",
       "      <td>D3</td>\n",
       "      <td>C3</td>\n",
       "      <td>D3</td>\n",
       "      <td>E3</td>\n",
       "      <td>E3</td>\n",
       "      <td>D3</td>\n",
       "      <td>C3</td>\n",
       "      <td>D3</td>\n",
       "      <td>A2</td>\n",
       "    </tr>\n",
       "  </tbody>\n",
       "</table>\n",
       "</div>"
      ],
      "text/plain": [
       "                               0.0  1.0  2.0  3.0  4.0  5.0  6.0  7.0  8.0   \\\n",
       "Indexer                  Parts                                                \n",
       "noterest.NoteRestIndexer 0       C3   G2   A2   A2   E3   F3   E3   E3   D3   \n",
       "\n",
       "                               9.0  10.0 11.0 12.0 13.0 14.0 15.0 16.0  \n",
       "Indexer                  Parts                                          \n",
       "noterest.NoteRestIndexer 0       C3   D3   E3   E3   D3   C3   D3   A2  "
      ]
     },
     "execution_count": 63,
     "metadata": {},
     "output_type": "execute_result"
    }
   ],
   "source": [
    "# Comparing the non-offset DataFrame:\n",
    "chant_indexed.head(17).T"
   ]
  },
  {
   "cell_type": "markdown",
   "metadata": {},
   "source": [
    "When we can compare the onsets, we will see that the offset indexer has reduced the score to looking at every fourth onset. Can we also apply the offset indexer to intervals? Yes! Observe the following example:"
   ]
  },
  {
   "cell_type": "code",
   "execution_count": 64,
   "metadata": {
    "collapsed": false
   },
   "outputs": [
    {
     "data": {
      "text/html": [
       "<div>\n",
       "<table border=\"1\" class=\"dataframe\">\n",
       "  <thead>\n",
       "    <tr style=\"text-align: right;\">\n",
       "      <th></th>\n",
       "      <th></th>\n",
       "      <th>0.0</th>\n",
       "      <th>4.0</th>\n",
       "      <th>8.0</th>\n",
       "      <th>12.0</th>\n",
       "      <th>16.0</th>\n",
       "    </tr>\n",
       "    <tr>\n",
       "      <th>Indexer</th>\n",
       "      <th>Parts</th>\n",
       "      <th></th>\n",
       "      <th></th>\n",
       "      <th></th>\n",
       "      <th></th>\n",
       "      <th></th>\n",
       "    </tr>\n",
       "  </thead>\n",
       "  <tbody>\n",
       "    <tr>\n",
       "      <th>offset.FilterByOffsetIndexer</th>\n",
       "      <th>0</th>\n",
       "      <td>-5</td>\n",
       "      <td>1</td>\n",
       "      <td>-2</td>\n",
       "      <td>-2</td>\n",
       "      <td>5</td>\n",
       "    </tr>\n",
       "  </tbody>\n",
       "</table>\n",
       "</div>"
      ],
      "text/plain": [
       "                                   0.0  4.0  8.0  12.0 16.0\n",
       "Indexer                      Parts                         \n",
       "offset.FilterByOffsetIndexer 0       -5    1   -2   -2    5"
      ]
     },
     "execution_count": 64,
     "metadata": {},
     "output_type": "execute_result"
    }
   ],
   "source": [
    "# Getting an offset DataFrame for horizontal intervals:\n",
    "chant_offset_hints = chant.get_data('offset', data=chant_hints, settings=offset_settings)\n",
    "\n",
    "# Sanity checking the horizontal offset DataFrame:\n",
    "chant_offset_hints.head().T"
   ]
  },
  {
   "cell_type": "markdown",
   "metadata": {},
   "source": [
    "And, and what about vertical intervals? Similar procedure:"
   ]
  },
  {
   "cell_type": "code",
   "execution_count": 73,
   "metadata": {
    "collapsed": false
   },
   "outputs": [],
   "source": [
    "# Getting an offset DataFrame for vertical intervals:\n",
    "# obrecht_offset_vints = obrecht.get_data('offset', data=obrecht_vints, settings=offset_settings)\n",
    "# The offset indexer does not seem to be working with vertical interval DataFrames"
   ]
  },
  {
   "cell_type": "markdown",
   "metadata": {},
   "source": [
    "#### << [1_Getting_Started_with_VIS.ipynb](1_Getting_Started_with_VIS.ipynb) | [3_The_NGram_Indexer.ipynb](3_The_NGram_Indexer.ipynb) >>"
   ]
  },
  {
   "cell_type": "markdown",
   "metadata": {},
   "source": [
    "- [1_Getting_Started_with_VIS.ipynb](1_Getting_Started_with_VIS.ipynb)\n",
    "- [2_Interval_Indexers.ipynb](2_Interval_Indexers.ipynb)\n",
    "- [3_The_NGram_Indexer.ipynb](3_The_NGram_Indexer.ipynb)\n",
    "- [4_Processing_Multiple_Files.ipynb](4_Processing_Multiple_Files.ipynb)\n",
    "- [5_Data_Wrangling_Results.ipynb](5_Data_Wrangling_Results.ipynb)\n",
    "- [6_Appendix.ipynb](6_Appendix.ipynb)"
   ]
  }
 ],
 "metadata": {
  "kernelspec": {
   "display_name": "Python 3",
   "language": "python",
   "name": "python3"
  },
  "language_info": {
   "codemirror_mode": {
    "name": "ipython",
    "version": 3
   },
   "file_extension": ".py",
   "mimetype": "text/x-python",
   "name": "python",
   "nbconvert_exporter": "python",
   "pygments_lexer": "ipython3",
   "version": "3.5.2"
  }
 },
 "nbformat": 4,
 "nbformat_minor": 1
}
