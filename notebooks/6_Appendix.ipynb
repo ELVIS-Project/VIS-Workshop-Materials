{
 "cells": [
  {
   "cell_type": "markdown",
   "metadata": {},
   "source": [
    "# 6. Appendix"
   ]
  },
  {
   "cell_type": "markdown",
   "metadata": {},
   "source": [
    "## Installing the VIS Framework with pip install\n",
    "\n",
    "On your command line ```pip install vis-framework```, or ```pip3 install vis-framework```.\n"
   ]
  },
  {
   "cell_type": "markdown",
   "metadata": {},
   "source": [
    "## Additional Resources\n",
    "\n",
    "I would like to point to [VIS-for-Pd](https://github.com/ELVIS-Project/VIS-for-Pd), which is a patcher environment based on PureData (Pd)."
   ]
  },
  {
   "cell_type": "markdown",
   "metadata": {},
   "source": [
    "### API Documentation\n",
    "\n",
    "Check out our updated API documentation [here](http://vis-framework.readthedocs.io/en/latest/)."
   ]
  },
  {
   "cell_type": "markdown",
   "metadata": {},
   "source": [
    "### Getting Involved: GitHub\n",
    "\n",
    "[GitHub](https://github.com/ELVIS-Project/vis-framework)"
   ]
  },
  {
   "cell_type": "markdown",
   "metadata": {},
   "source": [
    "#### << [5_Data_Wrangling_Results.ipynb](5_Data_Wrangling_Results.ipynb)"
   ]
  },
  {
   "cell_type": "markdown",
   "metadata": {},
   "source": [
    "- [1_Getting_Started_with_VIS.ipynb](1_Getting_Started_with_VIS.ipynb)\n",
    "- [2_Interval_Indexers.ipynb](2_Interval_Indexers.ipynb)\n",
    "- [3_The_NGram_Indexer.ipynb](3_The_NGram_Indexer.ipynb)\n",
    "- [4_Processing_Multiple_Files.ipynb](4_Processing_Multiple_Files.ipynb)\n",
    "- [5_Data_Wrangling_Results.ipynb](5_Data_Wrangling_Results.ipynb)\n",
    "- [6_Appendix.ipynb](6_Appendix.ipynb)"
   ]
  },
  {
   "cell_type": "code",
   "execution_count": null,
   "metadata": {
    "collapsed": true
   },
   "outputs": [],
   "source": []
  }
 ],
 "metadata": {
  "kernelspec": {
   "display_name": "Python 3",
   "language": "python",
   "name": "python3"
  },
  "language_info": {
   "codemirror_mode": {
    "name": "ipython",
    "version": 3
   },
   "file_extension": ".py",
   "mimetype": "text/x-python",
   "name": "python",
   "nbconvert_exporter": "python",
   "pygments_lexer": "ipython3",
   "version": "3.5.2"
  }
 },
 "nbformat": 4,
 "nbformat_minor": 1
}
