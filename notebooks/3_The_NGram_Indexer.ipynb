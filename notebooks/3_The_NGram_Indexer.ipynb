{
 "cells": [
  {
   "cell_type": "markdown",
   "metadata": {},
   "source": [
    "# 3. The NGram Indexer"
   ]
  },
  {
   "cell_type": "code",
   "execution_count": 1,
   "metadata": {
    "collapsed": true
   },
   "outputs": [],
   "source": [
    "from vis.models.indexed_piece import Importer"
   ]
  },
  {
   "cell_type": "code",
   "execution_count": 5,
   "metadata": {
    "collapsed": false
   },
   "outputs": [],
   "source": [
    "path_name = ('scores/polyphonic/symbolic/')\n",
    "file_name = ('Book-3_Jacob-Obrecht_Parce-Domine_p-327_p-328.xml')\n",
    "\n",
    "obrecht = Importer(path_name + file_name)"
   ]
  },
  {
   "cell_type": "code",
   "execution_count": 6,
   "metadata": {
    "collapsed": true
   },
   "outputs": [],
   "source": [
    "ngram_settings = {\n",
    "    'n': 2, \n",
    "    'vertical': 'all', \n",
    "    'horizontal': 'lowest'\n",
    "}\n",
    "\n",
    "vint_settings = {\n",
    "    'quality': 'chromatic', \n",
    "    'simple or compound': 'simple', \n",
    "    'directed': True\n",
    "}\n",
    "\n",
    "hint_settings = {\n",
    "    'quality': 'diatonic with quality', \n",
    "    'simple or compound': 'simple', \n",
    "    'directed': True, \n",
    "    'horiz_attach_later': True\n",
    "}"
   ]
  },
  {
   "cell_type": "code",
   "execution_count": 9,
   "metadata": {
    "collapsed": false
   },
   "outputs": [
    {
     "data": {
      "text/html": [
       "<div>\n",
       "<table border=\"1\" class=\"dataframe\">\n",
       "  <thead>\n",
       "    <tr>\n",
       "      <th>Indexer</th>\n",
       "      <th colspan=\"3\" halign=\"left\">interval.IntervalIndexer</th>\n",
       "    </tr>\n",
       "    <tr>\n",
       "      <th>Parts</th>\n",
       "      <th>0,1</th>\n",
       "      <th>0,2</th>\n",
       "      <th>1,2</th>\n",
       "    </tr>\n",
       "  </thead>\n",
       "  <tbody>\n",
       "    <tr>\n",
       "      <th>172.5</th>\n",
       "      <td>-3</td>\n",
       "      <td>7</td>\n",
       "      <td>10</td>\n",
       "    </tr>\n",
       "    <tr>\n",
       "      <th>173.0</th>\n",
       "      <td>-3</td>\n",
       "      <td>5</td>\n",
       "      <td>8</td>\n",
       "    </tr>\n",
       "    <tr>\n",
       "      <th>174.0</th>\n",
       "      <td>-2</td>\n",
       "      <td>5</td>\n",
       "      <td>7</td>\n",
       "    </tr>\n",
       "    <tr>\n",
       "      <th>175.0</th>\n",
       "      <td>-3</td>\n",
       "      <td>4</td>\n",
       "      <td>7</td>\n",
       "    </tr>\n",
       "    <tr>\n",
       "      <th>176.0</th>\n",
       "      <td>0</td>\n",
       "      <td>0</td>\n",
       "      <td>0</td>\n",
       "    </tr>\n",
       "  </tbody>\n",
       "</table>\n",
       "</div>"
      ],
      "text/plain": [
       "Indexer interval.IntervalIndexer        \n",
       "Parts                        0,1 0,2 1,2\n",
       "172.5                         -3   7  10\n",
       "173.0                         -3   5   8\n",
       "174.0                         -2   5   7\n",
       "175.0                         -3   4   7\n",
       "176.0                          0   0   0"
      ]
     },
     "execution_count": 9,
     "metadata": {},
     "output_type": "execute_result"
    }
   ],
   "source": [
    "obrecht_vints = obrecht.get_data('vertical_interval', settings=vint_settings)\n",
    "obrecht_vints.tail()"
   ]
  },
  {
   "cell_type": "code",
   "execution_count": 10,
   "metadata": {
    "collapsed": false
   },
   "outputs": [
    {
     "data": {
      "text/html": [
       "<div>\n",
       "<table border=\"1\" class=\"dataframe\">\n",
       "  <thead>\n",
       "    <tr>\n",
       "      <th>Indexer</th>\n",
       "      <th colspan=\"3\" halign=\"left\">interval.HorizontalIntervalIndexer</th>\n",
       "    </tr>\n",
       "    <tr>\n",
       "      <th>Parts</th>\n",
       "      <th>0</th>\n",
       "      <th>1</th>\n",
       "      <th>2</th>\n",
       "    </tr>\n",
       "  </thead>\n",
       "  <tbody>\n",
       "    <tr>\n",
       "      <th>172.5</th>\n",
       "      <td>NaN</td>\n",
       "      <td>-M2</td>\n",
       "      <td>NaN</td>\n",
       "    </tr>\n",
       "    <tr>\n",
       "      <th>173.0</th>\n",
       "      <td>-M2</td>\n",
       "      <td>-M2</td>\n",
       "      <td>NaN</td>\n",
       "    </tr>\n",
       "    <tr>\n",
       "      <th>174.0</th>\n",
       "      <td>NaN</td>\n",
       "      <td>-m2</td>\n",
       "      <td>NaN</td>\n",
       "    </tr>\n",
       "    <tr>\n",
       "      <th>175.0</th>\n",
       "      <td>-m2</td>\n",
       "      <td>NaN</td>\n",
       "      <td>NaN</td>\n",
       "    </tr>\n",
       "    <tr>\n",
       "      <th>176.0</th>\n",
       "      <td>m2</td>\n",
       "      <td>-M2</td>\n",
       "      <td>-P5</td>\n",
       "    </tr>\n",
       "  </tbody>\n",
       "</table>\n",
       "</div>"
      ],
      "text/plain": [
       "Indexer interval.HorizontalIntervalIndexer          \n",
       "Parts                                    0    1    2\n",
       "172.5                                  NaN  -M2  NaN\n",
       "173.0                                  -M2  -M2  NaN\n",
       "174.0                                  NaN  -m2  NaN\n",
       "175.0                                  -m2  NaN  NaN\n",
       "176.0                                   m2  -M2  -P5"
      ]
     },
     "execution_count": 10,
     "metadata": {},
     "output_type": "execute_result"
    }
   ],
   "source": [
    "obrecht_hints = obrecht.get_data('horizontal_interval', settings=hint_settings)\n",
    "obrecht_hints.tail()"
   ]
  },
  {
   "cell_type": "code",
   "execution_count": 11,
   "metadata": {
    "collapsed": false
   },
   "outputs": [
    {
     "data": {
      "text/html": [
       "<div>\n",
       "<table border=\"1\" class=\"dataframe\">\n",
       "  <thead>\n",
       "    <tr>\n",
       "      <th>Indexer</th>\n",
       "      <th colspan=\"3\" halign=\"left\">ngram.NGramIndexer</th>\n",
       "    </tr>\n",
       "    <tr>\n",
       "      <th>Parts</th>\n",
       "      <th>0,1 : 1</th>\n",
       "      <th>0,2 : 2</th>\n",
       "      <th>1,2 : 2</th>\n",
       "    </tr>\n",
       "  </thead>\n",
       "  <tbody>\n",
       "    <tr>\n",
       "      <th>172.0</th>\n",
       "      <td>[-5] (-M2) [-3]</td>\n",
       "      <td>[7] (_) [7]</td>\n",
       "      <td>[0] (_) [10]</td>\n",
       "    </tr>\n",
       "    <tr>\n",
       "      <th>172.5</th>\n",
       "      <td>[-3] (-M2) [-3]</td>\n",
       "      <td>[7] (_) [5]</td>\n",
       "      <td>[10] (_) [8]</td>\n",
       "    </tr>\n",
       "    <tr>\n",
       "      <th>173.0</th>\n",
       "      <td>[-3] (-m2) [-2]</td>\n",
       "      <td>[5] (_) [5]</td>\n",
       "      <td>[8] (_) [7]</td>\n",
       "    </tr>\n",
       "    <tr>\n",
       "      <th>174.0</th>\n",
       "      <td>[-2] (_) [-3]</td>\n",
       "      <td>[5] (_) [4]</td>\n",
       "      <td>[7] (_) [7]</td>\n",
       "    </tr>\n",
       "    <tr>\n",
       "      <th>175.0</th>\n",
       "      <td>[-3] (-M2) [0]</td>\n",
       "      <td>[4] (-P5) [0]</td>\n",
       "      <td>[7] (-P5) [0]</td>\n",
       "    </tr>\n",
       "  </tbody>\n",
       "</table>\n",
       "</div>"
      ],
      "text/plain": [
       "Indexer ngram.NGramIndexer                              \n",
       "Parts              0,1 : 1        0,2 : 2        1,2 : 2\n",
       "172.0      [-5] (-M2) [-3]    [7] (_) [7]   [0] (_) [10]\n",
       "172.5      [-3] (-M2) [-3]    [7] (_) [5]   [10] (_) [8]\n",
       "173.0      [-3] (-m2) [-2]    [5] (_) [5]    [8] (_) [7]\n",
       "174.0        [-2] (_) [-3]    [5] (_) [4]    [7] (_) [7]\n",
       "175.0       [-3] (-M2) [0]  [4] (-P5) [0]  [7] (-P5) [0]"
      ]
     },
     "execution_count": 11,
     "metadata": {},
     "output_type": "execute_result"
    }
   ],
   "source": [
    "obrecht_ngrams = obrecht.get_data('ngram', data=[obrecht_vints, obrecht_hints], settings=ngram_settings)\n",
    "obrecht_ngrams.tail()"
   ]
  },
  {
   "cell_type": "markdown",
   "metadata": {},
   "source": [
    "#### << [2_Interval_Indexers.ipynb](2_Interval_Indexers.ipynb) | [4_Processing_Multiple_Files.ipynb](4_Processing_Multiple_Files.ipynb) >>"
   ]
  },
  {
   "cell_type": "markdown",
   "metadata": {},
   "source": [
    "- [1_Getting_Started_with_VIS.ipynb](1_Getting_Started_with_VIS.ipynb)\n",
    "- [2_Interval_Indexers.ipynb](2_Interval_Indexers.ipynb)\n",
    "- [3_The_NGram_Indexer.ipynb](3_The_NGram_Indexer.ipynb)\n",
    "- [4_Processing_Multiple_Files.ipynb](4_Processing_Multiple_Files.ipynb)\n",
    "- [5_Data_Wrangling_Results.ipynb](5_Data_Wrangling_Results.ipynb)\n",
    "- [6_Appendix.ipynb](6_Appendix.ipynb)"
   ]
  },
  {
   "cell_type": "code",
   "execution_count": null,
   "metadata": {
    "collapsed": true
   },
   "outputs": [],
   "source": []
  }
 ],
 "metadata": {
  "kernelspec": {
   "display_name": "Python 3",
   "language": "python",
   "name": "python3"
  },
  "language_info": {
   "codemirror_mode": {
    "name": "ipython",
    "version": 3
   },
   "file_extension": ".py",
   "mimetype": "text/x-python",
   "name": "python",
   "nbconvert_exporter": "python",
   "pygments_lexer": "ipython3",
   "version": "3.5.2"
  }
 },
 "nbformat": 4,
 "nbformat_minor": 1
}
