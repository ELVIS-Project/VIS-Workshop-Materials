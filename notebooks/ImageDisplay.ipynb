{
 "cells": [
  {
   "cell_type": "code",
   "execution_count": 1,
   "metadata": {
    "collapsed": false
   },
   "outputs": [],
   "source": [
    "# Some iPython magic we need for JupyterHub.\n",
    "# See http://web.mit.edu/music21/doc/developerReference/installJupyter.html#setting-up-the-jupyter-environment.\n",
    "# See https://ipython.org/ipython-doc/2/config/extensions/index.html.\n",
    "%load_ext music21.ipython21\n",
    "\n",
    "# We need this to display the image file we wish to write.\n",
    "from IPython.core.display import Image\n",
    "\n",
    "# We need this because 'duh'.\n",
    "from music21 import *\n",
    "\n",
    "# This resets '.music21rc'. I put this here just to show that no extra settings need to be set.\n",
    "environment.UserSettings().restoreDefaults()\n",
    "\n",
    "# Stupid example.\n",
    "c = chord.Chord(\"C4 E4 G4\")"
   ]
  },
  {
   "cell_type": "code",
   "execution_count": 2,
   "metadata": {
    "collapsed": false
   },
   "outputs": [
    {
     "data": {
      "image/png": "[encoded data removed]",
      "text/plain": [
       "<IPython.core.display.Image object>"
      ]
     },
     "execution_count": 2,
     "metadata": {},
     "output_type": "execute_result"
    }
   ],
   "source": [
    "# 'lily.png' is NOT the name of the file -- it's the format\n",
    "Image(filename=c.write('lily.png'))"
   ]
  }
 ],
 "metadata": {
  "kernelspec": {
   "display_name": "Python 3",
   "language": "python",
   "name": "python3"
  },
  "language_info": {
   "codemirror_mode": {
    "name": "ipython",
    "version": 3
   },
   "file_extension": ".py",
   "mimetype": "text/x-python",
   "name": "python",
   "nbconvert_exporter": "python",
   "pygments_lexer": "ipython3",
   "version": "3.5.2"
  }
 },
 "nbformat": 4,
 "nbformat_minor": 1
}
